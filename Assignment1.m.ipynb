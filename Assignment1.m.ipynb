{
 "cells": [
  {
   "cell_type": "code",
   "execution_count": 448,
   "metadata": {
    "scrolled": true
   },
   "outputs": [],
   "source": [
    "import numpy as np\n",
    "import pickle\n",
    "import numpy.matlib\n",
    "import matplotlib.pyplot as plt\n",
    "\n",
    "# d = 3072\n",
    "# k = 10\n",
    "# n = 10000"
   ]
  },
  {
   "cell_type": "code",
   "execution_count": 449,
   "metadata": {},
   "outputs": [],
   "source": [
    "###############################################################\n",
    "\n",
    "# Matlab -> Python functions\n",
    "\n",
    "###############################################################\n",
    "\n",
    "# Loades an entire batch\n",
    "def LoadBatch(filename):\n",
    "\t\"\"\" Copied from the dataset website \"\"\" \n",
    "\twith open('Datasets/'+filename, 'rb') as fo:\n",
    "\t\tdict = pickle.load(fo, encoding='bytes') \n",
    "\treturn dict\n",
    "\n",
    "# Calculate softmax for class class estimation of each image (vector)\n",
    "def softmax(x):\n",
    "\t\"\"\" Standard definition of the softmax function \"\"\"\n",
    "\treturn np.exp(x) / np.sum(np.exp(x), axis=0)\n",
    "\n",
    "# Compute Grads numerically (rather than my analytical approach)\n",
    "def ComputeGradsNumSlow(X, Y, P, W, b, lamda, h):\n",
    "\t\"\"\" Converted from matlab code \"\"\"\n",
    "\tno \t= \tW.shape[0]\n",
    "\td \t= \tX.shape[0]\n",
    "\n",
    "\tgrad_W = np.zeros(W.shape);\n",
    "\tgrad_b = np.zeros((no, 1));\n",
    "\t\n",
    "\tfor i in range(len(b)):\n",
    "\t\tb_try = np.array(b)\n",
    "\t\tb_try[i] -= h\n",
    "\t\tc1 = ComputeCost(X, Y, W, b_try, lamda)\n",
    "\n",
    "\t\tb_try = np.array(b)\n",
    "\t\tb_try[i] += h\n",
    "\t\tc2 = ComputeCost(X, Y, W, b_try, lamda)\n",
    "\n",
    "\t\tgrad_b[i] = (c2-c1) / (2*h)\n",
    "\n",
    "\tfor i in range(W.shape[0]):\n",
    "\t\tfor j in range(W.shape[1]):\n",
    "\t\t\tW_try = np.array(W)\n",
    "\t\t\tW_try[i,j] -= h\n",
    "\t\t\tc1 = ComputeCost(X, Y, W_try, b, lamda)\n",
    "\n",
    "\t\t\tW_try = np.array(W)\n",
    "\t\t\tW_try[i,j] += h\n",
    "\t\t\tc2 = ComputeCost(X, Y, W_try, b, lamda)\n",
    "\n",
    "\t\t\tgrad_W[i,j] = (c2-c1) / (2*h)\n",
    "\n",
    "\treturn [grad_W, grad_b]\n",
    "\n",
    "# Allows for efficiently view the images in a directory or \n",
    "# in a *Matlab* array or cell array\n",
    "def montage(W):\n",
    "\t\"\"\" Display the image for each label in W \"\"\"\n",
    "\timport matplotlib.pyplot as plt\n",
    "\tfig, ax = plt.subplots(2,5)\n",
    "\tfor i in range(2):\n",
    "\t\tfor j in range(5):\n",
    "\t\t\tim  = W[i*5+j,:].reshape(32,32,3, order='F')\n",
    "\t\t\tsim = (im-np.min(im[:]))/(np.max(im[:])-np.min(im[:]))\n",
    "\t\t\tsim = sim.transpose(1,0,2)\n",
    "\t\t\tax[i][j].imshow(sim, interpolation='nearest')\n",
    "\t\t\tax[i][j].set_title(\"y=\"+str(5*i+j))\n",
    "\t\t\tax[i][j].axis('off')\n",
    "\tplt.show()\n",
    "\n",
    "###############################################################\n",
    "\n",
    "# My functions\n",
    "\n",
    "###############################################################\n",
    "\n",
    "# Read pixel data, labels (classes), one-hot rep. of labels (classes)\n",
    "# Divide pixel data by 255 for correct format\n",
    "def ReadData(filename):\n",
    "    \n",
    "    data_batch = LoadBatch(filename)\n",
    "    pixel_data = data_batch[b'data']/255\n",
    "    labels = data_batch[b'labels']\n",
    "    one_hot = np.eye(10)[labels].T\n",
    "    return pixel_data, one_hot, labels\n",
    "\n",
    "# Get mean and standard deviaiton of (training) data\n",
    "def GetMeanAndStd(data):  \n",
    "    # Kanske ändra\n",
    "    mean = np.mean(data, 0)\n",
    "    std = np.std(data, 0) # nånting saknas \n",
    "    return mean, std\n",
    "\n",
    "# Normalize w.r.t. training data mean and standard deviation\n",
    "# Normalization of input so that the inputs are at a comparable range\n",
    "def Normalize(train, validation, test, mean, std):\n",
    "        \n",
    "        # convert to floats\n",
    "        train = np.float64(train)\n",
    "        validation = np.float64(validation)\n",
    "        test = np.float64(test)\n",
    "        \n",
    "        train -= mean \n",
    "        train /= std\n",
    "    \n",
    "        validation -= mean\n",
    "        validation /= std\n",
    "        \n",
    "        test -= mean\n",
    "        test /= std\n",
    "        \n",
    "        return train.T, validation.T, test.T\n",
    "\n",
    "# First init of model params W(eights) and b(ias)\n",
    "# Init done with 0 mean and .01 std\n",
    "# Random seed for selecting the same rndm numbers for each execution\n",
    "def GetWeightAndBias(X, Y):\n",
    "    \n",
    "    W_size = X.shape\n",
    "    b_size = Y.shape\n",
    "\n",
    "    np.random.seed(400)\n",
    "    W = np.random.normal(loc=0.0, scale=0.01, size=(10, 3072))\n",
    "    np.random.seed(400)\n",
    "    b = np.random.normal(loc=0.0, scale=0.01, size=(b_size[0], 1))\n",
    "\n",
    "    return W, b\n",
    "\n",
    "# Evaluation of the network function\n",
    "# Agan, Softmax returns each probability for each class label\n",
    "def EvaluateClassifier(X, W, b):\n",
    "\n",
    "    s = np.dot(W, X) + b\n",
    "    P = softmax(s)\n",
    "    \n",
    "    return P\n",
    "\n",
    "# Total cost of a set of images:\n",
    "# 1. Regularization term, calculate: lambda * sum(W^2 ij)\n",
    "# 2. Sum it with l_cross + regularization term -> for each x,y in D\n",
    "# 3. Multiply everything with 1 / length of D\n",
    "def ComputeCost(X, Y, W, b, lambd):\n",
    "\n",
    "    # Calculate P using softmax\n",
    "    P = EvaluateClassifier(X, W, b)\n",
    "    \n",
    "    # Calculate cross-entropy-loss\n",
    "    l_cross = -np.sum(np.multiply(Y, np.log(P)))\n",
    "    \n",
    "    # Calculate regularization term\n",
    "    reg_term = lambd * np.sum(np.square(W))\n",
    "    \n",
    "    # Calculate total cost of the set of imgs\n",
    "    J = (1 / len(X[1])) * l_cross + reg_term\n",
    "    \n",
    "    return J\n",
    "\n",
    "# Accuracy of the network's predictions\n",
    "# Percentage of examples for which it gets the correct answer\n",
    "def ComputeAccuracy(X, y, W, b):\n",
    "\n",
    "    P = EvaluateClassifier(X,W,b)\n",
    "    acc = np.mean(y == np.argmax(P, axis=0))\n",
    "    \n",
    "    return acc\n",
    "    \n",
    "# Compute gradients of the cost function to see the curve of cost decrease \n",
    "# Forward pass is already done since we have already calculated P\n",
    "def ComputeGradients(X, Y, P, W, lambd):\n",
    "\n",
    "    n_b = X.shape[1]\n",
    "    \n",
    "    # Backward pass\n",
    "    G_batch = -(Y - P)\n",
    "    \n",
    "    # Backward pass for W + reg term\n",
    "    grad_W = 1 / n_b * np.dot(G_batch, X.T) + 2 * lambd * W\n",
    "    \n",
    "    # Backward pass for b\n",
    "    grad_b = 1 / n_b * np.dot(G_batch, np.ones(shape=(n_b, 1)))\n",
    "    \n",
    "    return grad_W, grad_b\n",
    "\n",
    "# Check if my analytical gradients \n",
    "# Using centered difference function\n",
    "# If the differenc is < 1e-6, the analytical gradients are fine\n",
    "def CompareGradients(X, Y, W, b, lambd, h):\n",
    "    \n",
    "    P = EvaluateClassifier(X, W, b)\n",
    "    \n",
    "    #Calculate gradients\n",
    "    grad_W_a, grad_b_a = ComputeGradients(X, Y, P, W, lambd)\n",
    "    grad_W_n, grad_b_n = ComputeGradsNumSlow(X, Y, P, W, b, lambd, h)\n",
    "    \n",
    "    # Calculate differences\n",
    "    w_rel_error = np.sum(np.abs(grad_W_a - grad_W_n)) / np.maximum(0.001, np.sum(np.abs(grad_W_a) + np.abs(grad_W_n)))\n",
    "    b_rel_error = np.sum(np.abs(grad_b_a - grad_b_n)) / np.maximum(0.001, np.sum(np.abs(grad_b_a) + np.abs(grad_b_n)))\n",
    "\n",
    "    # Check differences\n",
    "    if w_rel_error < 1e-6 and b_rel_error < 1e-6:\n",
    "        print(\"Analytical ok\")\n",
    "    else:\n",
    "        print(\"Gradient difference too high\")\n",
    "\n",
    "# Optimization of parameters with mini batch GD\n",
    "# Here, we update W and b for each epoch \n",
    "# Note: Differs from other approaches such as Batch Gradient Descent and Stochastic GD\n",
    "def MiniBatchGD(X, Y, GDparams, W, b, lambd):\n",
    "    \n",
    "    cost_list = []\n",
    "    accuracy_list = []\n",
    "    s_im = np.zeros((32,32,3))\n",
    "    n_batch = GDparams['n_batch']\n",
    "    epochs = GDparams['n_epochs']\n",
    "    learning_rate = GDparams['eta']\n",
    "\n",
    "    n = X.shape[1]\n",
    "    \n",
    "    for i in range(epochs):\n",
    "        for j in range(n // n_batch):\n",
    "            \n",
    "            # Selecting random entries\n",
    "            j_start = j*n_batch\n",
    "            j_end = (j+1) * n_batch\n",
    "            inds = range(j_start, j_end)\n",
    "            \n",
    "            # Random subset of train and corr. labels\n",
    "            XBatch = X[:, inds]\n",
    "            YBatch = Y[:, inds]\n",
    "\n",
    "            # Fwd pass on mini batch\n",
    "            P = EvaluateClassifier(XBatch, W, b)\n",
    "            \n",
    "            # Backward pass on mini batch\n",
    "            grad_W, grad_b = ComputeGradients(XBatch, YBatch, P, W, lambd)\n",
    "            \n",
    "            # Update parameters for next iteration\n",
    "            W = W - learning_rate * grad_W \n",
    "            b = b - learning_rate * grad_b\n",
    "\n",
    "        # Append accuracy and cost to list for each epoch\n",
    "        accuracy_list.append(ComputeAccuracy(X_train_normalized, y_test, W, b))\n",
    "        cost_list.append(ComputeCost(XBatch, YBatch, W, b, lambd))\n",
    "     \n",
    "    return cost_list, accuracy_list, s_im, W, b"
   ]
  },
  {
   "cell_type": "code",
   "execution_count": 450,
   "metadata": {},
   "outputs": [],
   "source": [
    "# Read data\n",
    "X_train, Y_train, y_test = ReadData('data_batch_1')\n",
    "X_val_train, Y_val_train, y_val_test = ReadData('data_batch_2')\n",
    "X_test_train, Y_test_train, y_test_test = ReadData('test_batch')\n",
    "\n",
    "# Gets mean and std of training data\n",
    "X_mean, X_std = GetMeanAndStd(X_train)"
   ]
  },
  {
   "cell_type": "code",
   "execution_count": 451,
   "metadata": {},
   "outputs": [],
   "source": [
    "# Normalize all data w.r.t. mean and std of training data\n",
    "X_train_normalized, X_val_train_normalized, X_test_train_normalized = Normalize(X_train, X_val_train, X_test_train, X_mean, X_std)"
   ]
  },
  {
   "cell_type": "code",
   "execution_count": 452,
   "metadata": {
    "scrolled": true
   },
   "outputs": [],
   "source": [
    "# Create model params W and b\n",
    "W, b = GetWeightAndBias(X_train_normalized, Y_train)"
   ]
  },
  {
   "cell_type": "code",
   "execution_count": 453,
   "metadata": {},
   "outputs": [],
   "source": [
    "# Model evaluation (take softmax)\n",
    "P = EvaluateClassifier(X_train_normalized, W, b)"
   ]
  },
  {
   "cell_type": "code",
   "execution_count": 454,
   "metadata": {},
   "outputs": [
    {
     "name": "stdout",
     "output_type": "stream",
     "text": [
      "Total cost:  2.4139380487029203\n"
     ]
    }
   ],
   "source": [
    "# X = dxn array of images (columns)\n",
    "# Y = 1xn vector of labels (in one-hot) for X\n",
    "# J = scalar corresponing to sum of the loss of the network's predictions,\n",
    "# in X relative to ground truth labels and reg. term on W. \n",
    "# Lambda = specifies how much penalty to be added \n",
    "J = ComputeCost(X_train_normalized, Y_train, W, b, lambd = 0.005)\n",
    "print(\"Total cost: \", J)"
   ]
  },
  {
   "cell_type": "code",
   "execution_count": 455,
   "metadata": {},
   "outputs": [
    {
     "name": "stdout",
     "output_type": "stream",
     "text": [
      "0.1053\n"
     ]
    }
   ],
   "source": [
    "A = ComputeAccuracy(X_train_normalized, y_test, W, b)\n",
    "print(A)"
   ]
  },
  {
   "cell_type": "code",
   "execution_count": 456,
   "metadata": {},
   "outputs": [],
   "source": [
    "grad_W, grad_b = ComputeGradients(X_train_normalized[0:20, [1]], Y_train[:,[1]], P[0:20, [1]], W[:, 0:20], lambd=0)"
   ]
  },
  {
   "cell_type": "code",
   "execution_count": 457,
   "metadata": {},
   "outputs": [
    {
     "name": "stdout",
     "output_type": "stream",
     "text": [
      "Analytical ok\n"
     ]
    }
   ],
   "source": [
    "threshold = 1e-6\n",
    "CompareGradients(X_train[0:20, [1]], Y_train[:, [1]], W[:, 0:20], b, 0, threshold)\n",
    "#CompareGradients(X_train[0:1000, [1]], Y_train[:, [1]], W[:, 0:1000], b, 0, threshold)\n",
    "#CompareGradients(X_train[0:3072, [1]], Y_train[:, [1]], W[:, 0:3072], b, 0, threshold)"
   ]
  },
  {
   "cell_type": "code",
   "execution_count": 464,
   "metadata": {},
   "outputs": [],
   "source": [
    "# Hyperparams\n",
    "GDparams = {'n_batch': 100, 'eta': 0.001, 'n_epochs': 40}\n",
    "lambd = 1\n",
    "\n",
    "# Train data\n",
    "cost, accuracy_list, s_im, W_upd, b_upd = MiniBatchGD(X_train_normalized, Y_train, GDparams, W, b, lambd)\n",
    "\n",
    "# Validation data\n",
    "cost_val, accuracy_list_val, s_im_val, W_upd_val, b_upd_val = MiniBatchGD(X_val_train_normalized, Y_val_train, GDparams, W, b, lambd)\n",
    "\n",
    "# Test data\n",
    "#cost_test, accuracy_list_test, s_im_val, W_upd_test, b_upd_test = MiniBatchGD(X_test_train_normalized, Y_test_train, GDparams, W, b, lambd)\n",
    "Acc = ComputeAccuracy(X_test_train_normalized, y_test_test, W_upd, b_upd)"
   ]
  },
  {
   "cell_type": "code",
   "execution_count": 465,
   "metadata": {},
   "outputs": [
    {
     "data": {
      "image/png": "[encoded data removed]",
      "text/plain": [
       "<Figure size 432x288 with 1 Axes>"
      ]
     },
     "metadata": {
      "needs_background": "light"
     },
     "output_type": "display_data"
    },
    {
     "name": "stdout",
     "output_type": "stream",
     "text": [
      "Current lambda: 1\n",
      "Current n_batch: 100\n",
      "Current eta: 0.001\n",
      "Current n_epochs: 40\n",
      "Accuracy test data:  0.3752\n"
     ]
    },
    {
     "data": {
      "image/png": "[encoded data removed]",
      "text/plain": [
       "<Figure size 432x288 with 10 Axes>"
      ]
     },
     "metadata": {
      "needs_background": "light"
     },
     "output_type": "display_data"
    }
   ],
   "source": [
    "# Losses looks very weird compared to the ones in the assignment\n",
    "# Also, why the hell is training losing more than validaiton\n",
    "# Accuracy low AF\n",
    "fig, ax = plt.subplots()  \n",
    "ax.plot(np.arange(GDparams['n_epochs']), cost, 'b', label='Training loss')  \n",
    "ax.plot(np.arange(GDparams['n_epochs']), cost_val, 'r', label='Validation loss') \n",
    "ax.set_xlabel('Iterations')  \n",
    "ax.set_ylabel('Cost')  \n",
    "ax.set_title('Error vs. Training Epoch')\n",
    "plt.legend()\n",
    "plt.show()\n",
    "\n",
    "print(\"Current lambda:\", lambd) \n",
    "print(\"Current n_batch:\", GDparams['n_batch'])\n",
    "print(\"Current eta:\", GDparams['eta'])\n",
    "print(\"Current n_epochs:\", GDparams['n_epochs'])\n",
    "print(\"Accuracy test data: \", Acc)\n",
    "\n",
    "# Visualization of weight matrix W for each epoch\n",
    "montage(W_upd)"
   ]
  },
  {
   "cell_type": "code",
   "execution_count": 447,
   "metadata": {},
   "outputs": [
    {
     "name": "stdout",
     "output_type": "stream",
     "text": [
      "0.3893\n"
     ]
    }
   ],
   "source": [
    "A = ComputeAccuracy(X_test_train_normalized, y_test_test, W_upd, b_upd)\n",
    "print(A)"
   ]
  },
  {
   "cell_type": "code",
   "execution_count": null,
   "metadata": {},
   "outputs": [],
   "source": []
  },
  {
   "cell_type": "code",
   "execution_count": null,
   "metadata": {},
   "outputs": [],
   "source": []
  }
 ],
 "metadata": {
  "kernelspec": {
   "display_name": "Python 3",
   "language": "python",
   "name": "python3"
  },
  "language_info": {
   "codemirror_mode": {
    "name": "ipython",
    "version": 3
   },
   "file_extension": ".py",
   "mimetype": "text/x-python",
   "name": "python",
   "nbconvert_exporter": "python",
   "pygments_lexer": "ipython3",
   "version": "3.8.3"
  }
 },
 "nbformat": 4,
 "nbformat_minor": 4
}
