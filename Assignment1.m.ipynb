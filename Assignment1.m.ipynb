{
 "cells": [
  {
   "cell_type": "code",
   "execution_count": 1,
   "metadata": {
    "scrolled": true
   },
   "outputs": [],
   "source": [
    "import numpy as np\n",
    "import pickle\n",
    "import numpy.matlib\n",
    "import matplotlib.pyplot as plt\n",
    "# didnt work ??? import functions.py.ipynb as f\n",
    "\n",
    "# d = 3072\n",
    "# k = 10\n",
    "# n = 10000"
   ]
  },
  {
   "cell_type": "code",
   "execution_count": 51,
   "metadata": {},
   "outputs": [],
   "source": [
    "# Loades an entire batch\n",
    "def LoadBatch(filename):\n",
    "\t\"\"\" Copied from the dataset website \"\"\" \n",
    "\twith open('Datasets/'+filename, 'rb') as fo:\n",
    "\t\tdict = pickle.load(fo, encoding='bytes') \n",
    "\treturn dict\n",
    "\n",
    "def softmax(x):\n",
    "    \"\"\" Standard definition of the softmax function \"\"\"\n",
    "    return np.exp(x) / np.sum(np.exp(x), axis=0)\n",
    "\n",
    "def ComputeGradsNumSlow(X, Y, P, W, b, lamda, h):\n",
    "\t\"\"\" Converted from matlab code \"\"\"\n",
    "\tno \t= \tW.shape[0]\n",
    "\td \t= \tX.shape[0]\n",
    "\n",
    "\tgrad_W = np.zeros(W.shape);\n",
    "\tgrad_b = np.zeros((no, 1));\n",
    "\t\n",
    "\tfor i in range(len(b)):\n",
    "\t\tb_try = np.array(b)\n",
    "\t\tb_try[i] -= h\n",
    "\t\tc1 = ComputeCost(X, Y, W, b_try, lamda)\n",
    "\n",
    "\t\tb_try = np.array(b)\n",
    "\t\tb_try[i] += h\n",
    "\t\tc2 = ComputeCost(X, Y, W, b_try, lamda)\n",
    "\n",
    "\t\tgrad_b[i] = (c2-c1) / (2*h)\n",
    "\n",
    "\tfor i in range(W.shape[0]):\n",
    "\t\tfor j in range(W.shape[1]):\n",
    "\t\t\tW_try = np.array(W)\n",
    "\t\t\tW_try[i,j] -= h\n",
    "\t\t\tc1 = ComputeCost(X, Y, W_try, b, lamda)\n",
    "\n",
    "\t\t\tW_try = np.array(W)\n",
    "\t\t\tW_try[i,j] += h\n",
    "\t\t\tc2 = ComputeCost(X, Y, W_try, b, lamda)\n",
    "\n",
    "\t\t\tgrad_W[i,j] = (c2-c1) / (2*h)\n",
    "\n",
    "\treturn [grad_W, grad_b]\n",
    "\n",
    "##############################################################\n",
    "\n",
    "def ReadData(filename):\n",
    "    data_batch = LoadBatch(filename)\n",
    "    \n",
    "    # get pixel data\n",
    "    # divide by 255 for single format\n",
    "    # Maybe have to transpose\n",
    "    pixel_data = data_batch[b'data'] #/255\n",
    "    # labels for each image\n",
    "    labels = data_batch[b'labels']\n",
    "    # one-hot rep. of labels\n",
    "    # T -> roterar\n",
    "    one_hot = np.eye(10)[labels].T\n",
    "    #print(one_hot.shape)\n",
    "    return pixel_data, one_hot, labels\n",
    "\n",
    "def GetMeanAndStd(data):  \n",
    "    # Kanske ändra\n",
    "    mean = np.mean(data, 0)\n",
    "    std = np.std(data, 0) # nånting saknas \n",
    "    return mean, std\n",
    "\n",
    "# input trainings data mean std\n",
    "def Normalize(train, validation, test, mean, std):\n",
    "        # convert to floar\n",
    "        train = np.float64(train)\n",
    "        validation = np.float64(validation)\n",
    "        test = np.float64(test)\n",
    "        \n",
    "        # Lurigt\n",
    "        train -= mean \n",
    "        train /= std\n",
    "    \n",
    "        validation -= mean\n",
    "        validation /= std\n",
    "        \n",
    "        test -= mean\n",
    "        test /= std\n",
    "        \n",
    "        return train.T, validation.T, test.T\n",
    "        \n",
    "        #train = train    \n",
    "def GetWeightAndBias(X, Y):\n",
    "    W_size = X.shape\n",
    "    b_size = Y.shape\n",
    "    # Random seed????\n",
    "    # loc = mean, scale = std\n",
    "    np.random.seed(400)\n",
    "    W = np.random.normal(loc=0.0, scale=0.01, size=(10, 3072))\n",
    "    b = np.random.normal(loc=0.0, scale=0.01, size=(b_size[0], 1))\n",
    "\n",
    "    return W, b\n",
    "\n",
    "\n",
    "def EvaluateClassifier(X, W, b):\n",
    "   # print(W.shape)\n",
    "  #  print(X.shape)\n",
    "    s = np.dot(W, X) + b\n",
    "    # Softmax returns each probability for each class label\n",
    "    P = softmax(s)\n",
    "    return P\n",
    "\n",
    "# 1. regularization term: calculate lambda * sum(W^2 ij)\n",
    "# 2. sum it with l_cross + regularization term -> for each x,y in D\n",
    "# 3. Multiply everything with 1 / length of D\n",
    "def ComputeCost(X, Y, W, b, lambd):\n",
    "    #div_D_length = 1 / len(X) * 2\n",
    "   # print(div_D_length)\n",
    "\n",
    "    # calculate P using softmax\n",
    "    P = EvaluateClassifier(X, W, b)\n",
    "    # Calculate cross-entropy-loss\n",
    "    l_cross = -np.sum(np.multiply(Y, np.log(P)))\n",
    "    # calculate regularization term\n",
    "    reg_term = lambd * np.sum(np.square(W))\n",
    "    # calculate total cost function\n",
    "    \n",
    "    # OBS: |D| is it the length of y+x or only x?\n",
    "    J = (1 / len(X[1])) * l_cross + reg_term\n",
    "    \n",
    "    return J\n",
    "\n",
    "def ComputeAccuracy(X, y, W, b):\n",
    "\n",
    "    P = EvaluateClassifier(X,W,b)\n",
    "    acc = np.mean(y == np.argmax(P, axis=0))\n",
    "    \n",
    "    return acc\n",
    "    \n",
    "# Tried to do from last slide of L3\n",
    "# Forward pass is already done since we have already calculated P\n",
    "def ComputeGradients(X, Y, P, W, lambd):\n",
    "\n",
    "    n_b = X.shape[1]\n",
    "    \n",
    "    # Backward pass\n",
    "    G_batch = -(Y - P)\n",
    "    # Backward pass + reg term\n",
    "    # LCROSS IS WHERE?! see (11) and (10)\n",
    "    grad_W = 1 / n_b * np.dot(G_batch, X.T) + 2 * lambd * W\n",
    "    # Backward pass for \n",
    "    grad_b = 1 / n_b * np.dot(G_batch, np.ones(shape=(n_b, 1)))\n",
    "    return grad_W, grad_b\n",
    "\n",
    "def CompareGradients(X, Y, W, b, lambd, h):\n",
    "    P = EvaluateClassifier(X, W, b)\n",
    "    grad_W_a, grad_b_a = ComputeGradients(X, Y, P, W, lambd)\n",
    "    grad_W_n, grad_b_n = ComputeGradsNumSlow(X, Y, P, W, b, lambd, h)\n",
    "    \n",
    "    \n",
    "    w_rel_error = np.sum(np.abs(grad_W_a - grad_W_n)) / np.maximum(0.0001, np.sum(np.abs(grad_W_a) + np.abs(grad_W_n)))\n",
    "    b_rel_error = np.sum(np.abs(grad_b_a - grad_b_n)) / np.maximum(0.0001, np.sum(np.abs(grad_b_a) + np.abs(grad_b_n)))\n",
    "\n",
    "\n",
    "    #print(\"abs_difference\", abs_difference)\n",
    "   # denominator = np.maximum(0.00001, np.sum(np.abs(g_W) + np.abs(ng_W)))\n",
    "   # print(\"denominator \", denominator)\n",
    "   # kvot = abs_difference / denominator\n",
    " #   print(kvot)\n",
    "\n",
    "    if w_rel_error < 1e-6 and b_rel_error < 1e-6:\n",
    "        print(\"ok\")\n",
    "    else:\n",
    "        print(\"gradient difference too high\")\n",
    "\n",
    "# Optimization of parameters with mini b GD\n",
    "# Differs from Batch Gradient Descent and Stochastic GD\n",
    "def MiniBatchGD(X, Y, GDparams, W, b, lambd):\n",
    "    \n",
    "    cost_list = []\n",
    "   # cost_list_val = []\n",
    "    accuracy_list = []\n",
    "    s_im = np.zeros((32,32,3))\n",
    "    print(s_im.shape)\n",
    "    n_batch = GDparams['n_batch']\n",
    "    epochs = GDparams['n_epochs']\n",
    "    learning_rate = GDparams['eta']\n",
    "\n",
    "    n = X.shape[1]\n",
    "    \n",
    "    for i in range(epochs):\n",
    "        #np.random.shuffle(X)\n",
    "        for j in range(n // n_batch):\n",
    "            j_start = j*n_batch\n",
    "            j_end = (j+1) * n_batch\n",
    "            inds = range(j_start, j_end)\n",
    "            # Random subset of train and corr. labels\n",
    "            XBatch = X[:, inds]\n",
    "            YBatch = Y[:, inds]\n",
    "\n",
    "            # Fwd pass on mini batch\n",
    "            P = EvaluateClassifier(XBatch, W, b)\n",
    "            # Backward pass on mini batch\n",
    "            grad_W, grad_b = ComputeGradients(XBatch, YBatch, P, W, lambd)\n",
    "            # Update parameters for next iteration\n",
    "            W = W - learning_rate * grad_W \n",
    "            b = b - learning_rate * grad_b\n",
    "\n",
    "        # Append cost to list for each iteration\n",
    "        accuracy_list.append(ComputeAccuracy(X_train_normalized, y_test, W, b))\n",
    "        cost_list.append(ComputeCost(XBatch, YBatch, W, b, lambd))\n",
    "    for i in range(10):\n",
    "   #     print(i)\n",
    "        \n",
    "        im = W[i].reshape(32, 32, 3)\n",
    "        print(im.shape)\n",
    "        s_im[i] = (im - np.min(im[:])) / (np.max(im[:]) - np.min(im[:]))\n",
    "        print(s_im[i])\n",
    "        s_im[i] = np.transpose(s_im[i], (2, 1, 3))\n",
    "    \n",
    "    return cost_list, accuracy_list, s_im, W, b"
   ]
  },
  {
   "cell_type": "code",
   "execution_count": 40,
   "metadata": {},
   "outputs": [],
   "source": [
    "# Read data\n",
    "X_train, Y_train, y_test = ReadData('data_batch_1')\n",
    "X_val_train, Y_val_train, y_val_test = ReadData('data_batch_2')\n",
    "X_test_train, Y_test_train, y_test_test = ReadData('test_batch')\n",
    "\n",
    "# Gets mean and std of training data\n",
    "X_mean, X_std = GetMeanAndStd(X_train)"
   ]
  },
  {
   "cell_type": "code",
   "execution_count": 41,
   "metadata": {},
   "outputs": [],
   "source": [
    "# Normalize all data w.r.t. mean and std of training data\n",
    "X_train_normalized, X_val_train_normalized, X_test_train_normalized = Normalize(X_train, X_val_train, X_test_train, X_mean, X_std)"
   ]
  },
  {
   "cell_type": "code",
   "execution_count": 42,
   "metadata": {
    "scrolled": true
   },
   "outputs": [],
   "source": [
    "# Create model params W and b\n",
    "# W = Weight, b = bias\n",
    "W, b = GetWeightAndBias(X_train_normalized, Y_train)"
   ]
  },
  {
   "cell_type": "code",
   "execution_count": 43,
   "metadata": {},
   "outputs": [],
   "source": [
    "# Model evaluation (take softmax)\n",
    "P = EvaluateClassifier(X_train_normalized, W, b)"
   ]
  },
  {
   "cell_type": "code",
   "execution_count": 44,
   "metadata": {},
   "outputs": [
    {
     "name": "stdout",
     "output_type": "stream",
     "text": [
      "Total cost:  2.4139004225102796\n"
     ]
    }
   ],
   "source": [
    "# X = dxn array of images (columns)\n",
    "# Y = 1xn vector of labels (in one-hot) for X\n",
    "# J = scalar corresponing to sum of the loss of the network's predictions,\n",
    "# in X relative to ground truth labels and reg. term on W (W= reg?). \n",
    "# Lambda = specifies how much penalty to be added \n",
    "J = ComputeCost(X_train_normalized, Y_train, W, b, lambd = 0.005)\n",
    "print(\"Total cost: \", J)"
   ]
  },
  {
   "cell_type": "code",
   "execution_count": 45,
   "metadata": {},
   "outputs": [
    {
     "name": "stdout",
     "output_type": "stream",
     "text": [
      "0.1048\n"
     ]
    }
   ],
   "source": [
    "A = ComputeAccuracy(X_train_normalized, y_test, W, b)\n",
    "print(A)"
   ]
  },
  {
   "cell_type": "code",
   "execution_count": 46,
   "metadata": {},
   "outputs": [],
   "source": [
    "grad_W, grad_b = ComputeGradients(X_train_normalized[0:20, [1]], Y_train[:,[1]], P[0:20, [1]], W[:, 0:20], lambd=0)"
   ]
  },
  {
   "cell_type": "code",
   "execution_count": 47,
   "metadata": {},
   "outputs": [],
   "source": [
    "#ngrad_W, ngrad_b = ComputeGradsNumSlow(X_train_normalized[0:20, [1]], Y_train[:,[1]], P_small, W[:, 0:20], b, 0, 1e-6)\n",
    "                                                "
   ]
  },
  {
   "cell_type": "code",
   "execution_count": 48,
   "metadata": {},
   "outputs": [
    {
     "name": "stdout",
     "output_type": "stream",
     "text": [
      "ok\n"
     ]
    }
   ],
   "source": [
    "CompareGradients(X_train[0:20, [1]], Y_train[:, [1]], W[:, 0:20], b, 0, 1e-6)"
   ]
  },
  {
   "cell_type": "code",
   "execution_count": 49,
   "metadata": {},
   "outputs": [
    {
     "name": "stdout",
     "output_type": "stream",
     "text": [
      "(32, 32, 3)\n",
      "(32, 32, 3)\n",
      "[0.3023, 0.3352, 0.3565, 0.3692, 0.3773, 0.3873, 0.3928, 0.3963, 0.4009, 0.4037, 0.4067, 0.4098, 0.4123, 0.4146, 0.4163, 0.4186, 0.4199, 0.4216, 0.4249, 0.4266, 0.4272, 0.4288, 0.431, 0.4327, 0.435, 0.4372, 0.4397, 0.4406, 0.4414, 0.4433, 0.4455, 0.4476, 0.4485, 0.4499, 0.4508, 0.4512, 0.4513, 0.4525, 0.4529, 0.4537]\n",
      "First cost:  2.0304178821048318\n",
      "[[[0. 0. 0.]\n",
      "  [0. 0. 0.]\n",
      "  [0. 0. 0.]\n",
      "  ...\n",
      "  [0. 0. 0.]\n",
      "  [0. 0. 0.]\n",
      "  [0. 0. 0.]]\n",
      "\n",
      " [[0. 0. 0.]\n",
      "  [0. 0. 0.]\n",
      "  [0. 0. 0.]\n",
      "  ...\n",
      "  [0. 0. 0.]\n",
      "  [0. 0. 0.]\n",
      "  [0. 0. 0.]]\n",
      "\n",
      " [[0. 0. 0.]\n",
      "  [0. 0. 0.]\n",
      "  [0. 0. 0.]\n",
      "  ...\n",
      "  [0. 0. 0.]\n",
      "  [0. 0. 0.]\n",
      "  [0. 0. 0.]]\n",
      "\n",
      " ...\n",
      "\n",
      " [[0. 0. 0.]\n",
      "  [0. 0. 0.]\n",
      "  [0. 0. 0.]\n",
      "  ...\n",
      "  [0. 0. 0.]\n",
      "  [0. 0. 0.]\n",
      "  [0. 0. 0.]]\n",
      "\n",
      " [[0. 0. 0.]\n",
      "  [0. 0. 0.]\n",
      "  [0. 0. 0.]\n",
      "  ...\n",
      "  [0. 0. 0.]\n",
      "  [0. 0. 0.]\n",
      "  [0. 0. 0.]]\n",
      "\n",
      " [[0. 0. 0.]\n",
      "  [0. 0. 0.]\n",
      "  [0. 0. 0.]\n",
      "  ...\n",
      "  [0. 0. 0.]\n",
      "  [0. 0. 0.]\n",
      "  [0. 0. 0.]]]\n"
     ]
    }
   ],
   "source": [
    "GDparams = {'n_batch': 100, 'eta': 0.001, 'n_epochs': 40}\n",
    "\n",
    "#W_star, b_star = \n",
    "cost, accuracy_list, s_im, W, b = MiniBatchGD(X_train_normalized, Y_train, GDparams, W, b, 0)\n",
    "cost_val, accuracy_list_val, s_im_val, W_val, b_val = MiniBatchGD(X_val_train_normalized, Y_val_train, GDparams, W, b, 0)\n",
    "\n",
    "print(accuracy_list)\n",
    "# First cost seems fine compared to example in assignment\n",
    "print(\"First cost: \", cost[0])\n",
    "print(s_im)"
   ]
  },
  {
   "cell_type": "code",
   "execution_count": 50,
   "metadata": {},
   "outputs": [
    {
     "data": {
      "image/png": "[encoded data removed]",
      "text/plain": [
       "<Figure size 432x288 with 1 Axes>"
      ]
     },
     "metadata": {
      "needs_background": "light"
     },
     "output_type": "display_data"
    },
    {
     "name": "stdout",
     "output_type": "stream",
     "text": [
      "Current n_batch: 100 Current eta: 0.001 Current n_epochs: 40\n",
      "Highest accuracy training:  0.4537\n",
      "Highest accuracy validation:  0.4553\n"
     ]
    }
   ],
   "source": [
    "# Losses looks very weird compared to the ones in the assignment\n",
    "# Also, why the hell is training losing more than validaiton\n",
    "# Accuracy low AF\n",
    "fig, ax = plt.subplots()  \n",
    "ax.plot(np.arange(GDparams['n_epochs']), cost, 'g', label='Training loss')  \n",
    "ax.plot(np.arange(GDparams['n_epochs']), cost_val, 'r', label='Validation loss') \n",
    "ax.set_xlabel('Iterations')  \n",
    "ax.set_ylabel('Cost')  \n",
    "ax.set_title('Error vs. Training Epoch')\n",
    "plt.legend()\n",
    "plt.show()\n",
    "\n",
    "{'n_batch': 100, 'eta': 0.001, 'n_epochs': 40}\n",
    "print(\"Current n_batch:\", GDparams['n_batch'], \"Current eta:\", GDparams['eta'], \"Current n_epochs:\", GDparams['n_epochs'])\n",
    "print(\"Highest accuracy training: \", max(accuracy_list))\n",
    "print(\"Highest accuracy validation: \", max(accuracy_list_val))"
   ]
  },
  {
   "cell_type": "code",
   "execution_count": null,
   "metadata": {},
   "outputs": [],
   "source": [
    "# Visualization of W\n",
    "\n"
   ]
  },
  {
   "cell_type": "code",
   "execution_count": null,
   "metadata": {},
   "outputs": [],
   "source": []
  },
  {
   "cell_type": "code",
   "execution_count": null,
   "metadata": {},
   "outputs": [],
   "source": []
  }
 ],
 "metadata": {
  "kernelspec": {
   "display_name": "Python 3",
   "language": "python",
   "name": "python3"
  },
  "language_info": {
   "codemirror_mode": {
    "name": "ipython",
    "version": 3
   },
   "file_extension": ".py",
   "mimetype": "text/x-python",
   "name": "python",
   "nbconvert_exporter": "python",
   "pygments_lexer": "ipython3",
   "version": "3.8.3"
  }
 },
 "nbformat": 4,
 "nbformat_minor": 4
}
